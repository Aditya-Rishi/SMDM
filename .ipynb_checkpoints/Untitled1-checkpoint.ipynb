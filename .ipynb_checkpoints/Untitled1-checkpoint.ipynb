{
 "cells": [
  {
   "cell_type": "code",
   "execution_count": 8,
   "metadata": {},
   "outputs": [],
   "source": [
    "import pyforest\n",
    "%matplotlib inline"
   ]
  },
  {
   "cell_type": "code",
   "execution_count": 9,
   "metadata": {},
   "outputs": [
    {
     "data": {
      "application/javascript": [
       "\n",
       "        if (window._pyforest_update_imports_cell) { window._pyforest_update_imports_cell('import pandas as pd'); }\n",
       "    "
      ],
      "text/plain": [
       "<IPython.core.display.Javascript object>"
      ]
     },
     "metadata": {},
     "output_type": "display_data"
    }
   ],
   "source": [
    "mydata = pd.read_excel('mc20.xlsx')"
   ]
  },
  {
   "cell_type": "code",
   "execution_count": 11,
   "metadata": {},
   "outputs": [
    {
     "data": {
      "text/html": [
       "<div>\n",
       "<style scoped>\n",
       "    .dataframe tbody tr th:only-of-type {\n",
       "        vertical-align: middle;\n",
       "    }\n",
       "\n",
       "    .dataframe tbody tr th {\n",
       "        vertical-align: top;\n",
       "    }\n",
       "\n",
       "    .dataframe thead th {\n",
       "        text-align: right;\n",
       "    }\n",
       "</style>\n",
       "<table border=\"1\" class=\"dataframe\">\n",
       "  <thead>\n",
       "    <tr style=\"text-align: right;\">\n",
       "      <th></th>\n",
       "      <th>Patient-number</th>\n",
       "      <th>Name</th>\n",
       "      <th>Address</th>\n",
       "      <th>Sector</th>\n",
       "      <th>Quarantine_on</th>\n",
       "      <th>Quarantine_till</th>\n",
       "      <th>Unnamed: 6</th>\n",
       "    </tr>\n",
       "  </thead>\n",
       "  <tbody>\n",
       "    <tr>\n",
       "      <th>0</th>\n",
       "      <td>1</td>\n",
       "      <td>Rakesh Gupta</td>\n",
       "      <td>House No. 3095\\nSector- 21 D</td>\n",
       "      <td>21</td>\n",
       "      <td>2020-03-19 00:00:00</td>\n",
       "      <td>2020-04-02 00:00:00</td>\n",
       "      <td>NaN</td>\n",
       "    </tr>\n",
       "    <tr>\n",
       "      <th>1</th>\n",
       "      <td>2</td>\n",
       "      <td>Arnav Gupta</td>\n",
       "      <td>House No. 3095\\nSector- 21 D</td>\n",
       "      <td>21</td>\n",
       "      <td>2020-04-04 00:00:00</td>\n",
       "      <td>2020-04-18 00:00:00</td>\n",
       "      <td>NaN</td>\n",
       "    </tr>\n",
       "    <tr>\n",
       "      <th>2</th>\n",
       "      <td>3</td>\n",
       "      <td>Ramesh</td>\n",
       "      <td>House No. 3095\\nSector- 21 D</td>\n",
       "      <td>21</td>\n",
       "      <td>2020-03-19 00:00:00</td>\n",
       "      <td>2020-04-02 00:00:00</td>\n",
       "      <td>NaN</td>\n",
       "    </tr>\n",
       "    <tr>\n",
       "      <th>3</th>\n",
       "      <td>4</td>\n",
       "      <td>Guddu</td>\n",
       "      <td>House No. 3095\\nSector- 21 D</td>\n",
       "      <td>21</td>\n",
       "      <td>2020-04-17 00:00:00</td>\n",
       "      <td>2020-04-30 00:00:00</td>\n",
       "      <td>NaN</td>\n",
       "    </tr>\n",
       "    <tr>\n",
       "      <th>4</th>\n",
       "      <td>5</td>\n",
       "      <td>Karanveer Dugal</td>\n",
       "      <td>House No. 3056\\nSector- 21 D</td>\n",
       "      <td>21</td>\n",
       "      <td>2020-03-19 00:00:00</td>\n",
       "      <td>2020-04-02 00:00:00</td>\n",
       "      <td>NaN</td>\n",
       "    </tr>\n",
       "  </tbody>\n",
       "</table>\n",
       "</div>"
      ],
      "text/plain": [
       "   Patient-number             Name                       Address Sector  \\\n",
       "0               1     Rakesh Gupta  House No. 3095\\nSector- 21 D     21   \n",
       "1               2      Arnav Gupta  House No. 3095\\nSector- 21 D     21   \n",
       "2               3           Ramesh  House No. 3095\\nSector- 21 D     21   \n",
       "3               4            Guddu  House No. 3095\\nSector- 21 D     21   \n",
       "4               5  Karanveer Dugal  House No. 3056\\nSector- 21 D     21   \n",
       "\n",
       "         Quarantine_on      Quarantine_till  Unnamed: 6  \n",
       "0  2020-03-19 00:00:00  2020-04-02 00:00:00         NaN  \n",
       "1  2020-04-04 00:00:00  2020-04-18 00:00:00         NaN  \n",
       "2  2020-03-19 00:00:00  2020-04-02 00:00:00         NaN  \n",
       "3  2020-04-17 00:00:00  2020-04-30 00:00:00         NaN  \n",
       "4  2020-03-19 00:00:00  2020-04-02 00:00:00         NaN  "
      ]
     },
     "execution_count": 11,
     "metadata": {},
     "output_type": "execute_result"
    }
   ],
   "source": [
    "mydata.head()"
   ]
  },
  {
   "cell_type": "code",
   "execution_count": 14,
   "metadata": {},
   "outputs": [
    {
     "data": {
      "text/plain": [
       "Patient-number         0\n",
       "Name                   0\n",
       "Address                5\n",
       "Sector                81\n",
       "Quarantine_on        183\n",
       "Quarantine_till      183\n",
       "Unnamed: 6         55743\n",
       "dtype: int64"
      ]
     },
     "execution_count": 14,
     "metadata": {},
     "output_type": "execute_result"
    }
   ],
   "source": [
    "mydata.isnull().sum()"
   ]
  },
  {
   "cell_type": "code",
   "execution_count": 26,
   "metadata": {},
   "outputs": [
    {
     "data": {
      "text/html": [
       "<div>\n",
       "<style scoped>\n",
       "    .dataframe tbody tr th:only-of-type {\n",
       "        vertical-align: middle;\n",
       "    }\n",
       "\n",
       "    .dataframe tbody tr th {\n",
       "        vertical-align: top;\n",
       "    }\n",
       "\n",
       "    .dataframe thead th {\n",
       "        text-align: right;\n",
       "    }\n",
       "</style>\n",
       "<table border=\"1\" class=\"dataframe\">\n",
       "  <thead>\n",
       "    <tr style=\"text-align: right;\">\n",
       "      <th></th>\n",
       "      <th>Patient-number</th>\n",
       "      <th>Name</th>\n",
       "      <th>Address</th>\n",
       "      <th>Sector</th>\n",
       "      <th>Quarantine_on</th>\n",
       "      <th>Quarantine_till</th>\n",
       "    </tr>\n",
       "  </thead>\n",
       "  <tbody>\n",
       "    <tr>\n",
       "      <th>0</th>\n",
       "      <td>1</td>\n",
       "      <td>Rakesh Gupta</td>\n",
       "      <td>House No. 3095\\nSector- 21 D</td>\n",
       "      <td>21</td>\n",
       "      <td>2020-03-19 00:00:00</td>\n",
       "      <td>2020-04-02 00:00:00</td>\n",
       "    </tr>\n",
       "    <tr>\n",
       "      <th>1</th>\n",
       "      <td>2</td>\n",
       "      <td>Arnav Gupta</td>\n",
       "      <td>House No. 3095\\nSector- 21 D</td>\n",
       "      <td>21</td>\n",
       "      <td>2020-04-04 00:00:00</td>\n",
       "      <td>2020-04-18 00:00:00</td>\n",
       "    </tr>\n",
       "    <tr>\n",
       "      <th>2</th>\n",
       "      <td>3</td>\n",
       "      <td>Ramesh</td>\n",
       "      <td>House No. 3095\\nSector- 21 D</td>\n",
       "      <td>21</td>\n",
       "      <td>2020-03-19 00:00:00</td>\n",
       "      <td>2020-04-02 00:00:00</td>\n",
       "    </tr>\n",
       "    <tr>\n",
       "      <th>3</th>\n",
       "      <td>4</td>\n",
       "      <td>Guddu</td>\n",
       "      <td>House No. 3095\\nSector- 21 D</td>\n",
       "      <td>21</td>\n",
       "      <td>2020-04-17 00:00:00</td>\n",
       "      <td>2020-04-30 00:00:00</td>\n",
       "    </tr>\n",
       "    <tr>\n",
       "      <th>4</th>\n",
       "      <td>5</td>\n",
       "      <td>Karanveer Dugal</td>\n",
       "      <td>House No. 3056\\nSector- 21 D</td>\n",
       "      <td>21</td>\n",
       "      <td>2020-03-19 00:00:00</td>\n",
       "      <td>2020-04-02 00:00:00</td>\n",
       "    </tr>\n",
       "    <tr>\n",
       "      <th>...</th>\n",
       "      <td>...</td>\n",
       "      <td>...</td>\n",
       "      <td>...</td>\n",
       "      <td>...</td>\n",
       "      <td>...</td>\n",
       "      <td>...</td>\n",
       "    </tr>\n",
       "    <tr>\n",
       "      <th>55738</th>\n",
       "      <td>55739</td>\n",
       "      <td>Happy</td>\n",
       "      <td>#3019/1, Sec 45</td>\n",
       "      <td>45</td>\n",
       "      <td>2021-03-11 00:00:00</td>\n",
       "      <td>2021-03-27 00:00:00</td>\n",
       "    </tr>\n",
       "    <tr>\n",
       "      <th>55739</th>\n",
       "      <td>55740</td>\n",
       "      <td>Tarsem Lal</td>\n",
       "      <td>#3019/1, Sec 45</td>\n",
       "      <td>45</td>\n",
       "      <td>2021-03-11 00:00:00</td>\n",
       "      <td>2021-03-27 00:00:00</td>\n",
       "    </tr>\n",
       "    <tr>\n",
       "      <th>55740</th>\n",
       "      <td>55741</td>\n",
       "      <td>Sheena</td>\n",
       "      <td>#3019/1, Sec 45</td>\n",
       "      <td>45</td>\n",
       "      <td>2021-03-11 00:00:00</td>\n",
       "      <td>2021-03-27 00:00:00</td>\n",
       "    </tr>\n",
       "    <tr>\n",
       "      <th>55741</th>\n",
       "      <td>55742</td>\n",
       "      <td>Isha</td>\n",
       "      <td>#3019/1, Sec 45</td>\n",
       "      <td>45</td>\n",
       "      <td>2021-03-11 00:00:00</td>\n",
       "      <td>2021-03-27 00:00:00</td>\n",
       "    </tr>\n",
       "    <tr>\n",
       "      <th>55742</th>\n",
       "      <td>55743</td>\n",
       "      <td>Neena</td>\n",
       "      <td>#3019/1, Sec 45</td>\n",
       "      <td>45</td>\n",
       "      <td>2021-03-11 00:00:00</td>\n",
       "      <td>2021-03-27 00:00:00</td>\n",
       "    </tr>\n",
       "  </tbody>\n",
       "</table>\n",
       "<p>55743 rows × 6 columns</p>\n",
       "</div>"
      ],
      "text/plain": [
       "       Patient-number             Name                       Address Sector  \\\n",
       "0                   1     Rakesh Gupta  House No. 3095\\nSector- 21 D     21   \n",
       "1                   2      Arnav Gupta  House No. 3095\\nSector- 21 D     21   \n",
       "2                   3           Ramesh  House No. 3095\\nSector- 21 D     21   \n",
       "3                   4            Guddu  House No. 3095\\nSector- 21 D     21   \n",
       "4                   5  Karanveer Dugal  House No. 3056\\nSector- 21 D     21   \n",
       "...               ...              ...                           ...    ...   \n",
       "55738           55739            Happy               #3019/1, Sec 45     45   \n",
       "55739           55740       Tarsem Lal               #3019/1, Sec 45     45   \n",
       "55740           55741           Sheena               #3019/1, Sec 45     45   \n",
       "55741           55742             Isha               #3019/1, Sec 45     45   \n",
       "55742           55743            Neena               #3019/1, Sec 45     45   \n",
       "\n",
       "             Quarantine_on      Quarantine_till  \n",
       "0      2020-03-19 00:00:00  2020-04-02 00:00:00  \n",
       "1      2020-04-04 00:00:00  2020-04-18 00:00:00  \n",
       "2      2020-03-19 00:00:00  2020-04-02 00:00:00  \n",
       "3      2020-04-17 00:00:00  2020-04-30 00:00:00  \n",
       "4      2020-03-19 00:00:00  2020-04-02 00:00:00  \n",
       "...                    ...                  ...  \n",
       "55738  2021-03-11 00:00:00  2021-03-27 00:00:00  \n",
       "55739  2021-03-11 00:00:00  2021-03-27 00:00:00  \n",
       "55740  2021-03-11 00:00:00  2021-03-27 00:00:00  \n",
       "55741  2021-03-11 00:00:00  2021-03-27 00:00:00  \n",
       "55742  2021-03-11 00:00:00  2021-03-27 00:00:00  \n",
       "\n",
       "[55743 rows x 6 columns]"
      ]
     },
     "execution_count": 26,
     "metadata": {},
     "output_type": "execute_result"
    }
   ],
   "source": [
    "df1 = mydata.drop('Unnamed: 6',axis=1)\n",
    "df1"
   ]
  },
  {
   "cell_type": "code",
   "execution_count": 32,
   "metadata": {},
   "outputs": [
    {
     "data": {
      "text/html": [
       "<div>\n",
       "<style scoped>\n",
       "    .dataframe tbody tr th:only-of-type {\n",
       "        vertical-align: middle;\n",
       "    }\n",
       "\n",
       "    .dataframe tbody tr th {\n",
       "        vertical-align: top;\n",
       "    }\n",
       "\n",
       "    .dataframe thead th {\n",
       "        text-align: right;\n",
       "    }\n",
       "</style>\n",
       "<table border=\"1\" class=\"dataframe\">\n",
       "  <thead>\n",
       "    <tr style=\"text-align: right;\">\n",
       "      <th></th>\n",
       "      <th>Patient-number</th>\n",
       "      <th>Name</th>\n",
       "      <th>Address</th>\n",
       "      <th>Sector</th>\n",
       "      <th>Quarantine_on</th>\n",
       "      <th>Quarantine_till</th>\n",
       "    </tr>\n",
       "  </thead>\n",
       "  <tbody>\n",
       "    <tr>\n",
       "      <th>55181</th>\n",
       "      <td>55182</td>\n",
       "      <td>Amit Kumar</td>\n",
       "      <td>#3527/2, Sec 46</td>\n",
       "      <td>46</td>\n",
       "      <td>2021-03-08 00:00:00</td>\n",
       "      <td>2021-03-24 00:00:00</td>\n",
       "    </tr>\n",
       "    <tr>\n",
       "      <th>55182</th>\n",
       "      <td>55183</td>\n",
       "      <td>Asha</td>\n",
       "      <td>#3527/2, Sec 46</td>\n",
       "      <td>46</td>\n",
       "      <td>2021-03-08 00:00:00</td>\n",
       "      <td>2021-03-24 00:00:00</td>\n",
       "    </tr>\n",
       "    <tr>\n",
       "      <th>55183</th>\n",
       "      <td>55184</td>\n",
       "      <td>Kartavya</td>\n",
       "      <td>#3527/2, Sec 46</td>\n",
       "      <td>46</td>\n",
       "      <td>2021-03-08 00:00:00</td>\n",
       "      <td>2021-03-24 00:00:00</td>\n",
       "    </tr>\n",
       "    <tr>\n",
       "      <th>55184</th>\n",
       "      <td>55185</td>\n",
       "      <td>Shylinder Singh</td>\n",
       "      <td>#2845/2, Sec 47 C</td>\n",
       "      <td>47</td>\n",
       "      <td>2021-03-07 00:00:00</td>\n",
       "      <td>2021-03-20 00:00:00</td>\n",
       "    </tr>\n",
       "    <tr>\n",
       "      <th>55185</th>\n",
       "      <td>55186</td>\n",
       "      <td>Brijesh</td>\n",
       "      <td>#2845/2, Sec 47 C</td>\n",
       "      <td>47</td>\n",
       "      <td>2021-03-07 00:00:00</td>\n",
       "      <td>2021-03-20 00:00:00</td>\n",
       "    </tr>\n",
       "    <tr>\n",
       "      <th>...</th>\n",
       "      <td>...</td>\n",
       "      <td>...</td>\n",
       "      <td>...</td>\n",
       "      <td>...</td>\n",
       "      <td>...</td>\n",
       "      <td>...</td>\n",
       "    </tr>\n",
       "    <tr>\n",
       "      <th>55738</th>\n",
       "      <td>55739</td>\n",
       "      <td>Happy</td>\n",
       "      <td>#3019/1, Sec 45</td>\n",
       "      <td>45</td>\n",
       "      <td>2021-03-11 00:00:00</td>\n",
       "      <td>2021-03-27 00:00:00</td>\n",
       "    </tr>\n",
       "    <tr>\n",
       "      <th>55739</th>\n",
       "      <td>55740</td>\n",
       "      <td>Tarsem Lal</td>\n",
       "      <td>#3019/1, Sec 45</td>\n",
       "      <td>45</td>\n",
       "      <td>2021-03-11 00:00:00</td>\n",
       "      <td>2021-03-27 00:00:00</td>\n",
       "    </tr>\n",
       "    <tr>\n",
       "      <th>55740</th>\n",
       "      <td>55741</td>\n",
       "      <td>Sheena</td>\n",
       "      <td>#3019/1, Sec 45</td>\n",
       "      <td>45</td>\n",
       "      <td>2021-03-11 00:00:00</td>\n",
       "      <td>2021-03-27 00:00:00</td>\n",
       "    </tr>\n",
       "    <tr>\n",
       "      <th>55741</th>\n",
       "      <td>55742</td>\n",
       "      <td>Isha</td>\n",
       "      <td>#3019/1, Sec 45</td>\n",
       "      <td>45</td>\n",
       "      <td>2021-03-11 00:00:00</td>\n",
       "      <td>2021-03-27 00:00:00</td>\n",
       "    </tr>\n",
       "    <tr>\n",
       "      <th>55742</th>\n",
       "      <td>55743</td>\n",
       "      <td>Neena</td>\n",
       "      <td>#3019/1, Sec 45</td>\n",
       "      <td>45</td>\n",
       "      <td>2021-03-11 00:00:00</td>\n",
       "      <td>2021-03-27 00:00:00</td>\n",
       "    </tr>\n",
       "  </tbody>\n",
       "</table>\n",
       "<p>562 rows × 6 columns</p>\n",
       "</div>"
      ],
      "text/plain": [
       "       Patient-number             Name            Address Sector  \\\n",
       "55181           55182       Amit Kumar    #3527/2, Sec 46     46   \n",
       "55182           55183             Asha    #3527/2, Sec 46     46   \n",
       "55183           55184         Kartavya    #3527/2, Sec 46     46   \n",
       "55184           55185  Shylinder Singh  #2845/2, Sec 47 C     47   \n",
       "55185           55186          Brijesh  #2845/2, Sec 47 C     47   \n",
       "...               ...              ...                ...    ...   \n",
       "55738           55739            Happy    #3019/1, Sec 45     45   \n",
       "55739           55740       Tarsem Lal    #3019/1, Sec 45     45   \n",
       "55740           55741           Sheena    #3019/1, Sec 45     45   \n",
       "55741           55742             Isha    #3019/1, Sec 45     45   \n",
       "55742           55743            Neena    #3019/1, Sec 45     45   \n",
       "\n",
       "             Quarantine_on      Quarantine_till  \n",
       "55181  2021-03-08 00:00:00  2021-03-24 00:00:00  \n",
       "55182  2021-03-08 00:00:00  2021-03-24 00:00:00  \n",
       "55183  2021-03-08 00:00:00  2021-03-24 00:00:00  \n",
       "55184  2021-03-07 00:00:00  2021-03-20 00:00:00  \n",
       "55185  2021-03-07 00:00:00  2021-03-20 00:00:00  \n",
       "...                    ...                  ...  \n",
       "55738  2021-03-11 00:00:00  2021-03-27 00:00:00  \n",
       "55739  2021-03-11 00:00:00  2021-03-27 00:00:00  \n",
       "55740  2021-03-11 00:00:00  2021-03-27 00:00:00  \n",
       "55741  2021-03-11 00:00:00  2021-03-27 00:00:00  \n",
       "55742  2021-03-11 00:00:00  2021-03-27 00:00:00  \n",
       "\n",
       "[562 rows x 6 columns]"
      ]
     },
     "execution_count": 32,
     "metadata": {},
     "output_type": "execute_result"
    }
   ],
   "source": [
    "df2=df1.tail(562)\n",
    "df2"
   ]
  },
  {
   "cell_type": "code",
   "execution_count": 34,
   "metadata": {},
   "outputs": [
    {
     "data": {
      "text/plain": [
       "40              33\n",
       "38              31\n",
       "37              28\n",
       "22              27\n",
       "19              27\n",
       "46              26\n",
       "51              25\n",
       "Mani Majra      22\n",
       "32              20\n",
       "Mouli Jagran    20\n",
       "39              18\n",
       "41              17\n",
       "35              16\n",
       "48              15\n",
       "45              15\n",
       "21              15\n",
       "Daddu Majra     13\n",
       "29              12\n",
       "42              11\n",
       "16               9\n",
       "52               8\n",
       "33               8\n",
       "15               8\n",
       "Burail           7\n",
       "23               7\n",
       "2                7\n",
       "49               7\n",
       "10               7\n",
       "56               6\n",
       "Kaimbwala        5\n",
       "PGI              5\n",
       "Manimajra        5\n",
       "30               5\n",
       "18               5\n",
       "7                4\n",
       "12               4\n",
       "11               4\n",
       "5                4\n",
       "20               4\n",
       "8                4\n",
       "9                4\n",
       "14               4\n",
       "27               4\n",
       "Ram Darbar       4\n",
       "50               4\n",
       "61               4\n",
       "Dhanas           4\n",
       "Raipur Khurd     4\n",
       "Ramdarbar        3\n",
       "26               2\n",
       "34               2\n",
       "44               2\n",
       "47               2\n",
       "Daria            2\n",
       "36               2\n",
       "28               1\n",
       "Name: Sector, dtype: int64"
      ]
     },
     "execution_count": 34,
     "metadata": {},
     "output_type": "execute_result"
    }
   ],
   "source": [
    "df2['Sector'].value_counts()"
   ]
  },
  {
   "cell_type": "code",
   "execution_count": 39,
   "metadata": {},
   "outputs": [
    {
     "data": {
      "text/plain": [
       "40              33\n",
       "38              31\n",
       "37              28\n",
       "22              27\n",
       "19              27\n",
       "46              26\n",
       "51              25\n",
       "Mani Majra      22\n",
       "32              20\n",
       "Mouli Jagran    20\n",
       "39              18\n",
       "41              17\n",
       "35              16\n",
       "48              15\n",
       "45              15\n",
       "21              15\n",
       "Daddu Majra     13\n",
       "29              12\n",
       "42              11\n",
       "16               9\n",
       "52               8\n",
       "33               8\n",
       "15               8\n",
       "Burail           7\n",
       "23               7\n",
       "2                7\n",
       "49               7\n",
       "10               7\n",
       "56               6\n",
       "Kaimbwala        5\n",
       "PGI              5\n",
       "Manimajra        5\n",
       "30               5\n",
       "18               5\n",
       "7                4\n",
       "12               4\n",
       "11               4\n",
       "5                4\n",
       "20               4\n",
       "8                4\n",
       "9                4\n",
       "14               4\n",
       "27               4\n",
       "Ram Darbar       4\n",
       "50               4\n",
       "61               4\n",
       "Dhanas           4\n",
       "Raipur Khurd     4\n",
       "Ramdarbar        3\n",
       "26               2\n",
       "34               2\n",
       "44               2\n",
       "47               2\n",
       "Daria            2\n",
       "36               2\n",
       "28               1\n",
       "Name: Sector, dtype: int64"
      ]
     },
     "execution_count": 39,
     "metadata": {},
     "output_type": "execute_result"
    }
   ],
   "source": [
    "df3= df2['Sector'].value_counts()\n",
    "df3"
   ]
  },
  {
   "cell_type": "code",
   "execution_count": 44,
   "metadata": {},
   "outputs": [
    {
     "data": {
      "text/plain": [
       "<matplotlib.axes._subplots.AxesSubplot at 0x2d0cdfb28b0>"
      ]
     },
     "execution_count": 44,
     "metadata": {},
     "output_type": "execute_result"
    },
    {
     "data": {
      "image/png": "[encoded data removed]",
      "text/plain": [
       "<Figure size 432x288 with 1 Axes>"
      ]
     },
     "metadata": {
      "needs_background": "light"
     },
     "output_type": "display_data"
    }
   ],
   "source": [
    "df3.hist()"
   ]
  },
  {
   "cell_type": "code",
   "execution_count": 50,
   "metadata": {},
   "outputs": [
    {
     "data": {
      "application/javascript": [
       "\n",
       "        if (window._pyforest_update_imports_cell) { window._pyforest_update_imports_cell('import matplotlib.pyplot as plt\\nimport seaborn as sns\\nimport pandas as pd'); }\n",
       "    "
      ],
      "text/plain": [
       "<IPython.core.display.Javascript object>"
      ]
     },
     "metadata": {},
     "output_type": "display_data"
    },
    {
     "data": {
      "application/javascript": [
       "\n",
       "        if (window._pyforest_update_imports_cell) { window._pyforest_update_imports_cell('import matplotlib.pyplot as plt\\nimport seaborn as sns\\nimport pandas as pd'); }\n",
       "    "
      ],
      "text/plain": [
       "<IPython.core.display.Javascript object>"
      ]
     },
     "metadata": {},
     "output_type": "display_data"
    },
    {
     "data": {
      "text/plain": [
       "<matplotlib.axes._subplots.AxesSubplot at 0x2d0cd1a37c0>"
      ]
     },
     "execution_count": 50,
     "metadata": {},
     "output_type": "execute_result"
    },
    {
     "data": {
      "image/png": "[encoded data removed]",
      "text/plain": [
       "<Figure size 1440x2160 with 1 Axes>"
      ]
     },
     "metadata": {
      "needs_background": "light"
     },
     "output_type": "display_data"
    }
   ],
   "source": [
    "fig_dims = (20,30)\n",
    "fig, ax = plt.subplots(figsize=fig_dims)\n",
    "sns.countplot(x=df3, ax=ax, data=mydata)"
   ]
  },
  {
   "cell_type": "code",
   "execution_count": 58,
   "metadata": {},
   "outputs": [
    {
     "data": {
      "text/plain": [
       "15070"
      ]
     },
     "execution_count": 58,
     "metadata": {},
     "output_type": "execute_result"
    }
   ],
   "source": [
    "len(mydata['Address'].unique())"
   ]
  },
  {
   "cell_type": "code",
   "execution_count": 59,
   "metadata": {},
   "outputs": [
    {
     "data": {
      "text/plain": [
       "155"
      ]
     },
     "execution_count": 59,
     "metadata": {},
     "output_type": "execute_result"
    }
   ],
   "source": [
    "len(df2['Address'].unique())"
   ]
  },
  {
   "cell_type": "code",
   "execution_count": 62,
   "metadata": {},
   "outputs": [
    {
     "data": {
      "text/plain": [
       "6.714429563094251"
      ]
     },
     "execution_count": 62,
     "metadata": {},
     "output_type": "execute_result"
    }
   ],
   "source": [
    "(15070/224442)*100"
   ]
  },
  {
   "cell_type": "code",
   "execution_count": 4,
   "metadata": {},
   "outputs": [
    {
     "data": {
      "application/javascript": [
       "\n",
       "        if (window._pyforest_update_imports_cell) { window._pyforest_update_imports_cell('import pandas as pd'); }\n",
       "    "
      ],
      "text/plain": [
       "<IPython.core.display.Javascript object>"
      ]
     },
     "metadata": {},
     "output_type": "display_data"
    },
    {
     "data": {
      "text/html": [
       "<div>\n",
       "<style scoped>\n",
       "    .dataframe tbody tr th:only-of-type {\n",
       "        vertical-align: middle;\n",
       "    }\n",
       "\n",
       "    .dataframe tbody tr th {\n",
       "        vertical-align: top;\n",
       "    }\n",
       "\n",
       "    .dataframe thead th {\n",
       "        text-align: right;\n",
       "    }\n",
       "</style>\n",
       "<table border=\"1\" class=\"dataframe\">\n",
       "  <thead>\n",
       "    <tr style=\"text-align: right;\">\n",
       "      <th></th>\n",
       "      <th>Name</th>\n",
       "      <th>Address</th>\n",
       "      <th>Sector</th>\n",
       "      <th>Quarantine_on</th>\n",
       "      <th>Quarantine_till</th>\n",
       "    </tr>\n",
       "  </thead>\n",
       "  <tbody>\n",
       "    <tr>\n",
       "      <th>55181</th>\n",
       "      <td>Amit Kumar</td>\n",
       "      <td>#3527/2, Sec 46</td>\n",
       "      <td>46</td>\n",
       "      <td>2021-03-08 00:00:00</td>\n",
       "      <td>2021-03-24 00:00:00</td>\n",
       "    </tr>\n",
       "    <tr>\n",
       "      <th>55182</th>\n",
       "      <td>Asha</td>\n",
       "      <td>#3527/2, Sec 46</td>\n",
       "      <td>46</td>\n",
       "      <td>2021-03-08 00:00:00</td>\n",
       "      <td>2021-03-24 00:00:00</td>\n",
       "    </tr>\n",
       "    <tr>\n",
       "      <th>55183</th>\n",
       "      <td>Kartavya</td>\n",
       "      <td>#3527/2, Sec 46</td>\n",
       "      <td>46</td>\n",
       "      <td>2021-03-08 00:00:00</td>\n",
       "      <td>2021-03-24 00:00:00</td>\n",
       "    </tr>\n",
       "    <tr>\n",
       "      <th>55184</th>\n",
       "      <td>Shylinder Singh</td>\n",
       "      <td>#2845/2, Sec 47 C</td>\n",
       "      <td>47</td>\n",
       "      <td>2021-03-07 00:00:00</td>\n",
       "      <td>2021-03-20 00:00:00</td>\n",
       "    </tr>\n",
       "    <tr>\n",
       "      <th>55185</th>\n",
       "      <td>Brijesh</td>\n",
       "      <td>#2845/2, Sec 47 C</td>\n",
       "      <td>47</td>\n",
       "      <td>2021-03-07 00:00:00</td>\n",
       "      <td>2021-03-20 00:00:00</td>\n",
       "    </tr>\n",
       "    <tr>\n",
       "      <th>...</th>\n",
       "      <td>...</td>\n",
       "      <td>...</td>\n",
       "      <td>...</td>\n",
       "      <td>...</td>\n",
       "      <td>...</td>\n",
       "    </tr>\n",
       "    <tr>\n",
       "      <th>55738</th>\n",
       "      <td>Happy</td>\n",
       "      <td>#3019/1, Sec 45</td>\n",
       "      <td>45</td>\n",
       "      <td>2021-03-11 00:00:00</td>\n",
       "      <td>2021-03-27 00:00:00</td>\n",
       "    </tr>\n",
       "    <tr>\n",
       "      <th>55739</th>\n",
       "      <td>Tarsem Lal</td>\n",
       "      <td>#3019/1, Sec 45</td>\n",
       "      <td>45</td>\n",
       "      <td>2021-03-11 00:00:00</td>\n",
       "      <td>2021-03-27 00:00:00</td>\n",
       "    </tr>\n",
       "    <tr>\n",
       "      <th>55740</th>\n",
       "      <td>Sheena</td>\n",
       "      <td>#3019/1, Sec 45</td>\n",
       "      <td>45</td>\n",
       "      <td>2021-03-11 00:00:00</td>\n",
       "      <td>2021-03-27 00:00:00</td>\n",
       "    </tr>\n",
       "    <tr>\n",
       "      <th>55741</th>\n",
       "      <td>Isha</td>\n",
       "      <td>#3019/1, Sec 45</td>\n",
       "      <td>45</td>\n",
       "      <td>2021-03-11 00:00:00</td>\n",
       "      <td>2021-03-27 00:00:00</td>\n",
       "    </tr>\n",
       "    <tr>\n",
       "      <th>55742</th>\n",
       "      <td>Neena</td>\n",
       "      <td>#3019/1, Sec 45</td>\n",
       "      <td>45</td>\n",
       "      <td>2021-03-11 00:00:00</td>\n",
       "      <td>2021-03-27 00:00:00</td>\n",
       "    </tr>\n",
       "  </tbody>\n",
       "</table>\n",
       "<p>562 rows × 5 columns</p>\n",
       "</div>"
      ],
      "text/plain": [
       "                  Name            Address Sector        Quarantine_on  \\\n",
       "55181       Amit Kumar    #3527/2, Sec 46     46  2021-03-08 00:00:00   \n",
       "55182             Asha    #3527/2, Sec 46     46  2021-03-08 00:00:00   \n",
       "55183         Kartavya    #3527/2, Sec 46     46  2021-03-08 00:00:00   \n",
       "55184  Shylinder Singh  #2845/2, Sec 47 C     47  2021-03-07 00:00:00   \n",
       "55185          Brijesh  #2845/2, Sec 47 C     47  2021-03-07 00:00:00   \n",
       "...                ...                ...    ...                  ...   \n",
       "55738            Happy    #3019/1, Sec 45     45  2021-03-11 00:00:00   \n",
       "55739       Tarsem Lal    #3019/1, Sec 45     45  2021-03-11 00:00:00   \n",
       "55740           Sheena    #3019/1, Sec 45     45  2021-03-11 00:00:00   \n",
       "55741             Isha    #3019/1, Sec 45     45  2021-03-11 00:00:00   \n",
       "55742            Neena    #3019/1, Sec 45     45  2021-03-11 00:00:00   \n",
       "\n",
       "           Quarantine_till  \n",
       "55181  2021-03-24 00:00:00  \n",
       "55182  2021-03-24 00:00:00  \n",
       "55183  2021-03-24 00:00:00  \n",
       "55184  2021-03-20 00:00:00  \n",
       "55185  2021-03-20 00:00:00  \n",
       "...                    ...  \n",
       "55738  2021-03-27 00:00:00  \n",
       "55739  2021-03-27 00:00:00  \n",
       "55740  2021-03-27 00:00:00  \n",
       "55741  2021-03-27 00:00:00  \n",
       "55742  2021-03-27 00:00:00  \n",
       "\n",
       "[562 rows x 5 columns]"
      ]
     },
     "execution_count": 4,
     "metadata": {},
     "output_type": "execute_result"
    }
   ],
   "source": [
    "mydata = pd.read_excel('mc20.xlsx')\n",
    "df1 = mydata.drop('Unnamed: 6',axis=1)\n",
    "df2=df1.tail(562)\n",
    "df4=df2.drop('Patient-number',axis=1)\n",
    "df4"
   ]
  },
  {
   "cell_type": "code",
   "execution_count": 16,
   "metadata": {},
   "outputs": [
    {
     "data": {
      "application/javascript": [
       "\n",
       "        if (window._pyforest_update_imports_cell) { window._pyforest_update_imports_cell('import matplotlib.pyplot as plt\\nimport seaborn as sns\\nimport pandas as pd'); }\n",
       "    "
      ],
      "text/plain": [
       "<IPython.core.display.Javascript object>"
      ]
     },
     "metadata": {},
     "output_type": "display_data"
    },
    {
     "data": {
      "application/javascript": [
       "\n",
       "        if (window._pyforest_update_imports_cell) { window._pyforest_update_imports_cell('import matplotlib.pyplot as plt\\nimport seaborn as sns\\nimport pandas as pd'); }\n",
       "    "
      ],
      "text/plain": [
       "<IPython.core.display.Javascript object>"
      ]
     },
     "metadata": {},
     "output_type": "display_data"
    },
    {
     "data": {
      "application/javascript": [
       "\n",
       "        if (window._pyforest_update_imports_cell) { window._pyforest_update_imports_cell('import matplotlib.pyplot as plt\\nimport seaborn as sns\\nimport pandas as pd'); }\n",
       "    "
      ],
      "text/plain": [
       "<IPython.core.display.Javascript object>"
      ]
     },
     "metadata": {},
     "output_type": "display_data"
    },
    {
     "data": {
      "image/png": "[encoded data removed]",
      "text/plain": [
       "<Figure size 6480x720 with 1 Axes>"
      ]
     },
     "metadata": {
      "needs_background": "light"
     },
     "output_type": "display_data"
    },
    {
     "data": {
      "text/plain": [
       "40              33\n",
       "38              31\n",
       "37              28\n",
       "22              27\n",
       "19              27\n",
       "46              26\n",
       "51              25\n",
       "Mani Majra      22\n",
       "32              20\n",
       "Mouli Jagran    20\n",
       "39              18\n",
       "41              17\n",
       "35              16\n",
       "21              15\n",
       "48              15\n",
       "45              15\n",
       "Daddu Majra     13\n",
       "29              12\n",
       "42              11\n",
       "16               9\n",
       "15               8\n",
       "52               8\n",
       "33               8\n",
       "Burail           7\n",
       "23               7\n",
       "2                7\n",
       "10               7\n",
       "49               7\n",
       "56               6\n",
       "30               5\n",
       "18               5\n",
       "Manimajra        5\n",
       "PGI              5\n",
       "Kaimbwala        5\n",
       "12               4\n",
       "11               4\n",
       "8                4\n",
       "14               4\n",
       "7                4\n",
       "5                4\n",
       "9                4\n",
       "27               4\n",
       "20               4\n",
       "Raipur Khurd     4\n",
       "50               4\n",
       "61               4\n",
       "Ram Darbar       4\n",
       "Dhanas           4\n",
       "Ramdarbar        3\n",
       "26               2\n",
       "34               2\n",
       "36               2\n",
       "44               2\n",
       "47               2\n",
       "Daria            2\n",
       "28               1\n",
       "Name: Sector, dtype: int64"
      ]
     },
     "execution_count": 16,
     "metadata": {},
     "output_type": "execute_result"
    }
   ],
   "source": [
    "fig_dims = (90,10)\n",
    "fig, ax = plt.subplots(figsize=fig_dims)\n",
    "sns.countplot(x=df4['Sector'], ax=ax);\n",
    "#sns.countplot(x=mydata['Sector'], hue=mydata['Address']);\n",
    "plt.show()\n",
    "df4['Sector'].value_counts()"
   ]
  },
  {
   "cell_type": "code",
   "execution_count": 104,
   "metadata": {},
   "outputs": [
    {
     "data": {
      "application/javascript": [
       "\n",
       "        if (window._pyforest_update_imports_cell) { window._pyforest_update_imports_cell('import matplotlib.pyplot as plt\\nimport seaborn as sns\\nimport pandas as pd'); }\n",
       "    "
      ],
      "text/plain": [
       "<IPython.core.display.Javascript object>"
      ]
     },
     "metadata": {},
     "output_type": "display_data"
    },
    {
     "data": {
      "application/javascript": [
       "\n",
       "        if (window._pyforest_update_imports_cell) { window._pyforest_update_imports_cell('import matplotlib.pyplot as plt\\nimport seaborn as sns\\nimport pandas as pd'); }\n",
       "    "
      ],
      "text/plain": [
       "<IPython.core.display.Javascript object>"
      ]
     },
     "metadata": {},
     "output_type": "display_data"
    },
    {
     "data": {
      "text/plain": [
       "<matplotlib.axes._subplots.AxesSubplot at 0x2d0d76667c0>"
      ]
     },
     "execution_count": 104,
     "metadata": {},
     "output_type": "execute_result"
    },
    {
     "data": {
      "image/png": "[encoded data removed]",
      "text/plain": [
       "<Figure size 2880x720 with 1 Axes>"
      ]
     },
     "metadata": {
      "needs_background": "light"
     },
     "output_type": "display_data"
    }
   ],
   "source": [
    "fig_dims = (40,10)\n",
    "fig, ax = plt.subplots(figsize=fig_dims)\n",
    "sns.countplot(df2['Sector'], ax=ax, data=df4, orient='v', order=df2['Sector'].value_counts())"
   ]
  },
  {
   "cell_type": "code",
   "execution_count": 109,
   "metadata": {},
   "outputs": [
    {
     "data": {
      "application/javascript": [
       "\n",
       "        if (window._pyforest_update_imports_cell) { window._pyforest_update_imports_cell('import matplotlib.pyplot as plt\\nimport seaborn as sns\\nimport pandas as pd'); }\n",
       "    "
      ],
      "text/plain": [
       "<IPython.core.display.Javascript object>"
      ]
     },
     "metadata": {},
     "output_type": "display_data"
    },
    {
     "data": {
      "application/javascript": [
       "\n",
       "        if (window._pyforest_update_imports_cell) { window._pyforest_update_imports_cell('import matplotlib.pyplot as plt\\nimport seaborn as sns\\nimport pandas as pd'); }\n",
       "    "
      ],
      "text/plain": [
       "<IPython.core.display.Javascript object>"
      ]
     },
     "metadata": {},
     "output_type": "display_data"
    },
    {
     "data": {
      "text/plain": [
       "<matplotlib.axes._subplots.AxesSubplot at 0x2d0d95edca0>"
      ]
     },
     "execution_count": 109,
     "metadata": {},
     "output_type": "execute_result"
    },
    {
     "data": {
      "image/png": "[encoded data removed]",
      "text/plain": [
       "<Figure size 2880x720 with 1 Axes>"
      ]
     },
     "metadata": {
      "needs_background": "light"
     },
     "output_type": "display_data"
    }
   ],
   "source": [
    "fig_dims = (40,10)\n",
    "fig, ax = plt.subplots(figsize=fig_dims)\n",
    "sns.swarmplot(df4['Sector'], df4['Quarantine_on'], ax=ax, data=df4, orient='v')"
   ]
  }
 ],
 "metadata": {
  "kernelspec": {
   "display_name": "Python 3",
   "language": "python",
   "name": "python3"
  },
  "language_info": {
   "codemirror_mode": {
    "name": "ipython",
    "version": 3
   },
   "file_extension": ".py",
   "mimetype": "text/x-python",
   "name": "python",
   "nbconvert_exporter": "python",
   "pygments_lexer": "ipython3",
   "version": "3.8.5"
  }
 },
 "nbformat": 4,
 "nbformat_minor": 4
}
